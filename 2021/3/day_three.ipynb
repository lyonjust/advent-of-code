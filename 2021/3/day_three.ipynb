{
 "cells": [
  {
   "cell_type": "code",
   "execution_count": 1,
   "metadata": {},
   "outputs": [],
   "source": [
    "import pandas as pd\n",
    "import numpy as np"
   ]
  },
  {
   "cell_type": "code",
   "execution_count": 2,
   "metadata": {},
   "outputs": [],
   "source": [
    "df_input = pd.read_csv('input.txt', header=None, dtype='str')"
   ]
  },
  {
   "cell_type": "code",
   "execution_count": 25,
   "metadata": {},
   "outputs": [],
   "source": [
    "def get_common_bits(df, bit_position):\n",
    "    '''\n",
    "    Takes a data frame and a bit position and returns a tuple of most and least frequent\n",
    "    No adjustment for zero indexing\n",
    "    So first bit is bit_position 0\n",
    "    '''\n",
    "    df_temp = df.copy(deep = True)\n",
    "    df_temp['IsolatedBits'] = df_temp[0].str[bit_position]\n",
    "    df_grouped = df_temp.groupby('IsolatedBits').count()\n",
    "    most_common_bit = df_grouped[0].argmax()\n",
    "    least_common_bit = df_grouped[0].argmin()\n",
    "\n",
    "    # additional check to see if equal numbers of 0s and 1s\n",
    "    if most_common_bit == least_common_bit: # this is the behaviour of argmax and argmin, i.e. will pick first instance\n",
    "        most_common_bit = 1\n",
    "        least_common_bit = 0\n",
    "\n",
    "    return most_common_bit, least_common_bit"
   ]
  },
  {
   "cell_type": "code",
   "execution_count": 4,
   "metadata": {},
   "outputs": [],
   "source": [
    "list_bits = []\n",
    "\n",
    "for bits in range(12):\n",
    "    list_bits.append(get_common_bits(df_input, bits))"
   ]
  },
  {
   "cell_type": "code",
   "execution_count": 5,
   "metadata": {},
   "outputs": [],
   "source": [
    "str_most_common = ''\n",
    "str_least_common = ''\n",
    "\n",
    "for bit_position in list_bits:\n",
    "    str_most_common += str(bit_position[0])\n",
    "    str_least_common += str(bit_position[1])"
   ]
  },
  {
   "cell_type": "code",
   "execution_count": 6,
   "metadata": {},
   "outputs": [],
   "source": [
    "gamma_rate = int(str_most_common, base = 2)\n",
    "epsilon_rate = int(str_least_common, base = 2)"
   ]
  },
  {
   "cell_type": "code",
   "execution_count": 7,
   "metadata": {},
   "outputs": [
    {
     "data": {
      "text/plain": [
       "3349"
      ]
     },
     "execution_count": 7,
     "metadata": {},
     "output_type": "execute_result"
    }
   ],
   "source": [
    "gamma_rate"
   ]
  },
  {
   "cell_type": "code",
   "execution_count": 8,
   "metadata": {},
   "outputs": [
    {
     "data": {
      "text/plain": [
       "746"
      ]
     },
     "execution_count": 8,
     "metadata": {},
     "output_type": "execute_result"
    }
   ],
   "source": [
    "epsilon_rate"
   ]
  },
  {
   "cell_type": "code",
   "execution_count": 9,
   "metadata": {},
   "outputs": [
    {
     "data": {
      "text/plain": [
       "2498354"
      ]
     },
     "execution_count": 9,
     "metadata": {},
     "output_type": "execute_result"
    }
   ],
   "source": [
    "answer_three = gamma_rate * epsilon_rate\n",
    "answer_three"
   ]
  },
  {
   "cell_type": "code",
   "execution_count": 10,
   "metadata": {},
   "outputs": [],
   "source": [
    "# part two"
   ]
  },
  {
   "cell_type": "code",
   "execution_count": 45,
   "metadata": {},
   "outputs": [],
   "source": [
    "def recur_forwards(df = df_input, bit_position = 0, most_or_least = 'most'):\n",
    "\n",
    "    if most_or_least == 'most':\n",
    "        result_from_get_common_bits = 0\n",
    "    else: \n",
    "        result_from_get_common_bits = 1\n",
    "\n",
    "    df_temp = df.copy(deep = True)\n",
    "\n",
    "    df_temp['BitToMatch'] = df_temp[0].str[bit_position]\n",
    "    df_temp['number_of_iterations'] = bit_position + 1\n",
    "    bit_to_match = str(get_common_bits(df_temp, bit_position)[result_from_get_common_bits])\n",
    "\n",
    "    df_temp_two = df_temp[df_temp['BitToMatch'] == bit_to_match]\n",
    "    if len(df_temp_two) == 0:\n",
    "        return df_temp\n",
    "    elif bit_position == 11:\n",
    "        return df_temp_two\n",
    "    else:\n",
    "        return recur_forwards(df_temp_two, bit_position + 1, most_or_least = most_or_least)"
   ]
  },
  {
   "cell_type": "code",
   "execution_count": 46,
   "metadata": {},
   "outputs": [
    {
     "name": "stdout",
     "output_type": "stream",
     "text": [
      "oxygen is 3921 and co2 is 836\n"
     ]
    }
   ],
   "source": [
    "oxygen_rating_binary = recur_forwards(most_or_least='most').iloc[0,0]\n",
    "co2_rating_binary = recur_forwards(most_or_least='least').iloc[0,0]\n",
    "\n",
    "oxygen_rating = int(oxygen_rating_binary, base = 2)\n",
    "co2_rating = int(co2_rating_binary, base = 2)\n",
    "\n",
    "print(f'oxygen is {oxygen_rating} and co2 is {co2_rating}')"
   ]
  },
  {
   "cell_type": "code",
   "execution_count": 47,
   "metadata": {},
   "outputs": [
    {
     "data": {
      "text/plain": [
       "3277956"
      ]
     },
     "execution_count": 47,
     "metadata": {},
     "output_type": "execute_result"
    }
   ],
   "source": [
    "answer_three_b = oxygen_rating * co2_rating\n",
    "answer_three_b"
   ]
  }
 ],
 "metadata": {
  "interpreter": {
   "hash": "8e842b3e27c56fc22e95c28f5b9e5f5a588f6fc828f3cb334842e786bd9ff122"
  },
  "kernelspec": {
   "display_name": "Python 3.8.12 64-bit ('py38': conda)",
   "language": "python",
   "name": "python3"
  },
  "language_info": {
   "codemirror_mode": {
    "name": "ipython",
    "version": 3
   },
   "file_extension": ".py",
   "mimetype": "text/x-python",
   "name": "python",
   "nbconvert_exporter": "python",
   "pygments_lexer": "ipython3",
   "version": "3.8.12"
  },
  "orig_nbformat": 4
 },
 "nbformat": 4,
 "nbformat_minor": 2
}
