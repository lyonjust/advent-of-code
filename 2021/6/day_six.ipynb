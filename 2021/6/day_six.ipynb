{
 "cells": [
  {
   "cell_type": "code",
   "execution_count": 1,
   "metadata": {},
   "outputs": [],
   "source": [
    "import pandas as pd\n",
    "import numpy as np"
   ]
  },
  {
   "cell_type": "code",
   "execution_count": 2,
   "metadata": {},
   "outputs": [],
   "source": [
    "df = pd.read_csv('input.txt', header = None).T"
   ]
  },
  {
   "cell_type": "code",
   "execution_count": 3,
   "metadata": {},
   "outputs": [],
   "source": [
    "list_of_timers = df[0].to_list()\n",
    "day_zero = list_of_timers"
   ]
  },
  {
   "cell_type": "code",
   "execution_count": 4,
   "metadata": {},
   "outputs": [],
   "source": [
    "generations = {}\n",
    "generations[0] = day_zero"
   ]
  },
  {
   "cell_type": "code",
   "execution_count": 5,
   "metadata": {},
   "outputs": [],
   "source": [
    "def pass_time():\n",
    "    current_generation = len(generations) - 1\n",
    "    new_spawns = []\n",
    "    generations[current_generation + 1] = []\n",
    "\n",
    "    for i, individual_fish_timer in enumerate(generations[current_generation]):\n",
    "        if individual_fish_timer > 0:\n",
    "            generations[current_generation + 1].insert(i, individual_fish_timer - 1)\n",
    "        else:\n",
    "            generations[current_generation + 1].insert(i, 6)\n",
    "            new_spawns.append(8)\n",
    "\n",
    "    generations[current_generation + 1].extend(new_spawns)"
   ]
  },
  {
   "cell_type": "code",
   "execution_count": 6,
   "metadata": {},
   "outputs": [
    {
     "data": {
      "text/plain": [
       "81"
      ]
     },
     "execution_count": 6,
     "metadata": {},
     "output_type": "execute_result"
    }
   ],
   "source": [
    "days_to_pass = 80\n",
    "\n",
    "for i in range(days_to_pass):\n",
    "    pass_time()\n",
    "\n",
    "len(generations)"
   ]
  },
  {
   "cell_type": "code",
   "execution_count": 7,
   "metadata": {},
   "outputs": [],
   "source": [
    "answer_one = len(generations[80])"
   ]
  },
  {
   "cell_type": "code",
   "execution_count": 8,
   "metadata": {},
   "outputs": [],
   "source": [
    "#  need to be more efficient for 256 generations\n",
    "# look at np arrays instead of lists, forcing small int\n",
    "# or boil down the generations into x number of fish at each state"
   ]
  }
 ],
 "metadata": {
  "interpreter": {
   "hash": "8e842b3e27c56fc22e95c28f5b9e5f5a588f6fc828f3cb334842e786bd9ff122"
  },
  "kernelspec": {
   "display_name": "Python 3.8.12 64-bit ('py38': conda)",
   "language": "python",
   "name": "python3"
  },
  "language_info": {
   "codemirror_mode": {
    "name": "ipython",
    "version": 3
   },
   "file_extension": ".py",
   "mimetype": "text/x-python",
   "name": "python",
   "nbconvert_exporter": "python",
   "pygments_lexer": "ipython3",
   "version": "3.8.12"
  },
  "orig_nbformat": 4
 },
 "nbformat": 4,
 "nbformat_minor": 2
}
